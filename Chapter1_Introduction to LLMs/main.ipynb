{
 "cells": [
  {
   "cell_type": "markdown",
   "metadata": {},
   "source": [
    "Translation with LLMs (GPT-3.5 API)"
   ]
  },
  {
   "cell_type": "code",
   "execution_count": 3,
   "metadata": {},
   "outputs": [
    {
     "name": "stdout",
     "output_type": "stream",
     "text": [
      "The translation of \"Hello, how are you?\" in French is \"Bonjour, comment ça va ?\"\n"
     ]
    }
   ],
   "source": [
    "from openai import OpenAI\n",
    "\n",
    "# Initialize OpenAI client\n",
    "client = OpenAI()\n",
    "\n",
    "# English text to translate\n",
    "english_text = \"Hello, how are you?\"\n",
    "\n",
    "# Use chat.completions.create to generate the conversation\n",
    "response = client.chat.completions.create(\n",
    "    model=\"gpt-4o-mini\",  # Or use \"gpt-3.5-turbo\" depending on your needs\n",
    "    messages=[\n",
    "        {\"role\": \"system\", \"content\": \"You are a helpful assistant.\"},\n",
    "        {\"role\": \"user\", \"content\": f\"Translate the following English text to French: '{english_text}'\"}\n",
    "    ]\n",
    ")\n",
    "\n",
    "# Output the translation result\n",
    "print(response.choices[0].message.content)"
   ]
  },
  {
   "cell_type": "markdown",
   "metadata": {},
   "source": [
    "Control LLMs Output by Providing Examples"
   ]
  },
  {
   "cell_type": "code",
   "execution_count": 4,
   "metadata": {},
   "outputs": [
    {
     "name": "stdout",
     "output_type": "stream",
     "text": [
      "🤠🧸🚀✨👦\n"
     ]
    }
   ],
   "source": [
    "from openai import OpenAI\n",
    "\n",
    "# Initialize OpenAI client\n",
    "client = OpenAI()\n",
    "\n",
    "# Define the prompt template\n",
    "prompt = \"\"\"\n",
    "Describe the following movie using emojis.\n",
    "{movie}: \n",
    "\"\"\"\n",
    "\n",
    "# Define example data\n",
    "examples = [\n",
    "    {\n",
    "        \"input\": \"Titanic\",\n",
    "        \"output\": \"🛳 ❤ \"\n",
    "    },\n",
    "    {\n",
    "        \"input\": \"The Matrix\",\n",
    "        \"output\": \"🕶 🔓 \"\n",
    "    }\n",
    "]\n",
    "\n",
    "# Target movie\n",
    "movie = \"Toy Story\"\n",
    "\n",
    "# Use chat.completions.create to generate the conversation\n",
    "completion = client.chat.completions.create(\n",
    "    model=\"gpt-4o-mini\",\n",
    "    messages=[\n",
    "        {\"role\": \"system\", \"content\": \"You are a helpful assistant.\"},\n",
    "        {\"role\": \"user\", \"content\": prompt.format(movie=examples[0][\"input\"])},\n",
    "        {\"role\": \"assistant\", \"content\": examples[0][\"output\"]},\n",
    "        {\"role\": \"user\", \"content\": prompt.format(movie=examples[1][\"input\"])},\n",
    "        {\"role\": \"assistant\", \"content\": examples[1][\"output\"]},\n",
    "        {\"role\": \"user\", \"content\": prompt.format(movie=movie)}\n",
    "    ]\n",
    ")\n",
    "\n",
    "# Output the generated emoji description\n",
    "print(completion.choices[0].message.content)\n"
   ]
  }
 ],
 "metadata": {
  "kernelspec": {
   "display_name": "Python 3",
   "language": "python",
   "name": "python3"
  },
  "language_info": {
   "codemirror_mode": {
    "name": "ipython",
    "version": 3
   },
   "file_extension": ".py",
   "mimetype": "text/x-python",
   "name": "python",
   "nbconvert_exporter": "python",
   "pygments_lexer": "ipython3",
   "version": "3.10.15"
  }
 },
 "nbformat": 4,
 "nbformat_minor": 2
}
