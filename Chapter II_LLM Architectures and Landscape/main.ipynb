{
 "cells": [
  {
   "cell_type": "markdown",
   "metadata": {},
   "source": [
    "The Architecture In Action"
   ]
  },
  {
   "cell_type": "code",
   "execution_count": null,
   "metadata": {},
   "outputs": [
    {
     "name": "stderr",
     "output_type": "stream",
     "text": [
      "e:\\Installation\\Anaconda\\envs\\llm\\lib\\site-packages\\transformers\\utils\\generic.py:482: FutureWarning: `torch.utils._pytree._register_pytree_node` is deprecated. Please use `torch.utils._pytree.register_pytree_node` instead.\n",
      "  _torch_pytree._register_pytree_node(\n",
      "e:\\Installation\\Anaconda\\envs\\llm\\lib\\site-packages\\transformers\\utils\\generic.py:339: FutureWarning: `torch.utils._pytree._register_pytree_node` is deprecated. Please use `torch.utils._pytree.register_pytree_node` instead.\n",
      "  _torch_pytree._register_pytree_node(\n",
      "e:\\Installation\\Anaconda\\envs\\llm\\lib\\site-packages\\transformers\\utils\\generic.py:339: FutureWarning: `torch.utils._pytree._register_pytree_node` is deprecated. Please use `torch.utils._pytree.register_pytree_node` instead.\n",
      "  _torch_pytree._register_pytree_node(\n",
      "`low_cpu_mem_usage` was None, now default to True since model is quantized.\n"
     ]
    },
    {
     "name": "stdout",
     "output_type": "stream",
     "text": [
      "inp_tokenized['input_ids'].size(): torch.Size([1, 10])\n",
      "inp_tokenized: {'input_ids': tensor([[    2,   133,  2119,  6219, 23602, 13855,    81,     5, 22414,  2335]]), 'attention_mask': tensor([[1, 1, 1, 1, 1, 1, 1, 1, 1, 1]])}\n"
     ]
    }
   ],
   "source": [
    "from transformers import AutoModelForCausalLM, AutoTokenizer, BitsAndBytesConfig\n",
    "\n",
    "# Configure quantization with BitsAndBytesConfig for 8-bit loading\n",
    "quantization_config = BitsAndBytesConfig(load_in_8bit=True)\n",
    "\n",
    "# Load the pre-trained model and tokenizer from the Hugging Face model hub\n",
    "OPT = AutoModelForCausalLM.from_pretrained(\"facebook/opt-1.3b\", quantization_config=quantization_config)  # Load model in 8-bit mode to reduce memory usage\n",
    "tokenizer = AutoTokenizer.from_pretrained(\"facebook/opt-1.3b\")  # Load tokenizer for the same model\n",
    "\n",
    "# Define a sample input sentence\n",
    "inp = \"The quick brown fox jumps over the lazy dog\"\n",
    "\n",
    "# Tokenize the input sentence and return tensors in PyTorch format\n",
    "inp_tokenized = tokenizer(inp, return_tensors=\"pt\") \n",
    "\n",
    "# Print the size of the tokenized input tensor (shows the dimensions)\n",
    "print(\"inp_tokenized['input_ids'].size():\", inp_tokenized['input_ids'].size())  \n",
    "\n",
    "# Print the tokenized input (shows the token IDs corresponding to each word in the sentence)\n",
    "print(\"inp_tokenized:\", inp_tokenized)"
   ]
  },
  {
   "cell_type": "code",
   "execution_count": null,
   "metadata": {},
   "outputs": [
    {
     "name": "stdout",
     "output_type": "stream",
     "text": [
      "OPTModel(\n",
      "  (decoder): OPTDecoder(\n",
      "    (embed_tokens): Embedding(50272, 2048, padding_idx=1)\n",
      "    (embed_positions): OPTLearnedPositionalEmbedding(2050, 2048)\n",
      "    (final_layer_norm): LayerNorm((2048,), eps=1e-05, elementwise_affine=True)\n",
      "    (layers): ModuleList(\n",
      "      (0-23): 24 x OPTDecoderLayer(\n",
      "        (self_attn): OPTAttention(\n",
      "          (k_proj): Linear8bitLt(in_features=2048, out_features=2048, bias=True)\n",
      "          (v_proj): Linear8bitLt(in_features=2048, out_features=2048, bias=True)\n",
      "          (q_proj): Linear8bitLt(in_features=2048, out_features=2048, bias=True)\n",
      "          (out_proj): Linear8bitLt(in_features=2048, out_features=2048, bias=True)\n",
      "        )\n",
      "        (activation_fn): ReLU()\n",
      "        (self_attn_layer_norm): LayerNorm((2048,), eps=1e-05, elementwise_affine=True)\n",
      "        (fc1): Linear8bitLt(in_features=2048, out_features=8192, bias=True)\n",
      "        (fc2): Linear8bitLt(in_features=8192, out_features=2048, bias=True)\n",
      "        (final_layer_norm): LayerNorm((2048,), eps=1e-05, elementwise_affine=True)\n",
      "      )\n",
      "    )\n",
      "  )\n",
      ")\n"
     ]
    }
   ],
   "source": [
    "# examine the model’s architecture\n",
    "print(OPT.model)"
   ]
  },
  {
   "cell_type": "code",
   "execution_count": null,
   "metadata": {},
   "outputs": [
    {
     "name": "stdout",
     "output_type": "stream",
     "text": [
      "Layer:\t Embedding(50272, 2048, padding_idx=1)\n",
      "Size:\t torch.Size([1, 10, 2048])\n",
      "Output:\t tensor([[[-0.0407,  0.0519,  0.0574,  ..., -0.0263, -0.0355, -0.0260],\n",
      "         [-0.0371,  0.0220, -0.0096,  ...,  0.0265, -0.0166, -0.0030],\n",
      "         [-0.0455, -0.0236, -0.0121,  ...,  0.0043, -0.0166,  0.0193],\n",
      "         ...,\n",
      "         [ 0.0007,  0.0267,  0.0257,  ...,  0.0622,  0.0421,  0.0279],\n",
      "         [-0.0126,  0.0347, -0.0352,  ..., -0.0393, -0.0396, -0.0102],\n",
      "         [-0.0115,  0.0319,  0.0274,  ..., -0.0472, -0.0059,  0.0341]]],\n",
      "       device='cuda:0', dtype=torch.float16, grad_fn=<EmbeddingBackward0>)\n"
     ]
    }
   ],
   "source": [
    "# examine the Input Embedding\n",
    "embedded_input = OPT.model.decoder.embed_tokens(inp_tokenized['input_ids'])\n",
    "\n",
    "print(\"Layer:\\t\", OPT.model.decoder.embed_tokens)\n",
    "print(\"Size:\\t\", embedded_input.size())\n",
    "print(\"Output:\\t\", embedded_input)\n"
   ]
  },
  {
   "cell_type": "code",
   "execution_count": null,
   "metadata": {},
   "outputs": [
    {
     "name": "stdout",
     "output_type": "stream",
     "text": [
      "Layer:\t OPTLearnedPositionalEmbedding(2050, 2048)\n",
      "Size:\t torch.Size([1, 10, 2048])\n",
      "Output:\t tensor([[[-8.1406e-03, -2.6221e-01,  6.0768e-03,  ...,  1.7273e-02,\n",
      "          -5.0621e-03, -1.6220e-02],\n",
      "         [-8.0585e-05,  2.5000e-01, -1.6632e-02,  ..., -1.5419e-02,\n",
      "          -1.7838e-02,  2.4948e-02],\n",
      "         [-9.9411e-03, -1.4978e-01,  1.7557e-03,  ...,  3.7117e-03,\n",
      "          -1.6434e-02, -9.9087e-04],\n",
      "         ...,\n",
      "         [ 3.6979e-04, -7.7454e-02,  1.2955e-02,  ...,  3.9330e-03,\n",
      "          -1.1642e-02,  7.8506e-03],\n",
      "         [-2.6779e-03, -2.2446e-02, -1.6754e-02,  ..., -1.3142e-03,\n",
      "          -7.8583e-03,  2.0096e-02],\n",
      "         [-8.6288e-03,  1.4233e-01, -1.9012e-02,  ..., -1.8463e-02,\n",
      "          -9.8572e-03,  8.7662e-03]]], device='cuda:0', dtype=torch.float16,\n",
      "       grad_fn=<EmbeddingBackward0>)\n"
     ]
    }
   ],
   "source": [
    "# examine the Positional Encoding\n",
    "embed_pos_input = OPT.model.decoder.embed_positions(inp_tokenized['attention_mask'])\n",
    "\n",
    "print(\"Layer:\\t\", OPT.model.decoder.embed_positions)\n",
    "print(\"Size:\\t\", embed_pos_input.size())\n",
    "print(\"Output:\\t\", embed_pos_input)\n"
   ]
  },
  {
   "cell_type": "code",
   "execution_count": null,
   "metadata": {},
   "outputs": [
    {
     "name": "stdout",
     "output_type": "stream",
     "text": [
      "Layer:\t OPTAttention(\n",
      "  (k_proj): Linear8bitLt(in_features=2048, out_features=2048, bias=True)\n",
      "  (v_proj): Linear8bitLt(in_features=2048, out_features=2048, bias=True)\n",
      "  (q_proj): Linear8bitLt(in_features=2048, out_features=2048, bias=True)\n",
      "  (out_proj): Linear8bitLt(in_features=2048, out_features=2048, bias=True)\n",
      ")\n",
      "Size:\t torch.Size([1, 10, 2048])\n",
      "Output:\t tensor([[[-0.0119, -0.0110,  0.0056,  ...,  0.0094,  0.0013,  0.0093],\n",
      "         [-0.0119, -0.0110,  0.0056,  ...,  0.0095,  0.0013,  0.0093],\n",
      "         [-0.0119, -0.0110,  0.0056,  ...,  0.0095,  0.0013,  0.0093],\n",
      "         ...,\n",
      "         [-0.0119, -0.0110,  0.0056,  ...,  0.0095,  0.0013,  0.0093],\n",
      "         [-0.0119, -0.0110,  0.0056,  ...,  0.0095,  0.0013,  0.0093],\n",
      "         [-0.0119, -0.0110,  0.0056,  ...,  0.0095,  0.0013,  0.0093]]],\n",
      "       device='cuda:0', dtype=torch.float16, grad_fn=<MatMul8bitLtBackward>)\n"
     ]
    }
   ],
   "source": [
    "# examine the first layer’s selfattention component \n",
    "# Add token embeddings and positional embeddings\n",
    "embed_position_input = embedded_input + embed_pos_input\n",
    "# Pass the input through the self-attention mechanism of layer 0\n",
    "hidden_states, _, _ = OPT.model.decoder.layers[0].self_attn(embed_position_input)\n",
    "print(\"Layer:\\t\", OPT.model.decoder.layers[0].self_attn)\n",
    "print(\"Size:\\t\", hidden_states.size())\n",
    "print(\"Output:\\t\", hidden_states)"
   ]
  }
 ],
 "metadata": {
  "language_info": {
   "name": "python"
  }
 },
 "nbformat": 4,
 "nbformat_minor": 2
}
