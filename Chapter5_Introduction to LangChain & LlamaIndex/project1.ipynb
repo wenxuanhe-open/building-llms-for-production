{
 "cells": [
  {
   "cell_type": "markdown",
   "metadata": {},
   "source": [
    "Building a News Articles Summarizer"
   ]
  },
  {
   "cell_type": "code",
   "execution_count": 6,
   "metadata": {},
   "outputs": [
    {
     "name": "stdout",
     "output_type": "stream",
     "text": [
      "Title: Meta claims its new AI supercomputer will set records\n",
      "Text: Ryan Daws is a senior editor at TechForge Media with over a decade of experience in crafting compelling narratives and making complex topics accessible. His articles and interviews with industry leaders have earned him recognition as a key influencer by organisations like Onalytica. Under his leadership, publications have been praised by analyst firms such as Forrester for their excellence and performance. Connect with him on X (@gadget_ry) or Mastodon (@gadgetry@techhub.social)\n",
      "\n",
      "Meta (formerly Facebook) has unveiled an AI supercomputer that it claims will be the world’s fastest.\n",
      "\n",
      "The supercomputer is called the AI Research SuperCluster (RSC) and is yet to be fully complete. However, Meta’s researchers have already begun using it for training large natural language processing (NLP) and computer vision models.\n",
      "\n",
      "RSC is set to be fully built in mid-2022. Meta says that it will be the fastest in the world once complete and the aim is for it to be capable of training models with trillions of parameters.\n",
      "\n",
      "“We hope RSC will help us build entirely new AI systems that can, for example, power real-time voice translations to large groups of people, each speaking a different language, so they can seamlessly collaborate on a research project or play an AR game together,” wrote Meta in a blog post.\n",
      "\n",
      "“Ultimately, the work done with RSC will pave the way toward building technologies for the next major computing platform — the metaverse, where AI-driven applications and products will play an important role.”\n",
      "\n",
      "For production, Meta expects RSC will be 20x faster than Meta’s current V100-based clusters. RSC is also estimated to be 9x faster at running the NVIDIA Collective Communication Library (NCCL) and 3x faster at training large-scale NLP workflows.\n",
      "\n",
      "A model with tens of billions of parameters can finish training in three weeks compared with nine weeks prior to RSC.\n",
      "\n",
      "Meta says that its previous AI research infrastructure only leveraged open source and other publicly-available datasets. RSC was designed with the security and privacy controls in mind to allow Meta to use real-world examples from its production systems in production training.\n",
      "\n",
      "What this means in practice is that Meta can use RSC to advance research for vital tasks such as identifying harmful content on its platforms—using real data from them.\n",
      "\n",
      "“We believe this is the first time performance, reliability, security, and privacy have been tackled at such a scale,” says Meta.\n",
      "\n",
      "(Image Credit: Meta)\n",
      "\n",
      "Want to learn more about AI and big data from industry leaders? Check out AI & Big Data Expo. The next events in the series will be held in Santa Clara on 11-12 May 2022, Amsterdam on 20-21 September 2022, and London on 1-2 December 2022.\n",
      "\n",
      "Explore other upcoming enterprise technology events and webinars powered by TechForge here.\n"
     ]
    }
   ],
   "source": [
    "import requests\n",
    "from newspaper import Article\n",
    "\n",
    "# Set up custom headers to simulate a real browser, which can help bypass restrictions.\n",
    "headers = {\n",
    "    'User-Agent': 'Mozilla/5.0 (Windows NT 10.0; Win64; x64) AppleWebKit/537.36 (KHTML, like Gecko) Chrome/130.0.0.0 Safari/537.36 Edg/130.0.0.0'\n",
    "}\n",
    "\n",
    "# URL of the article to fetch\n",
    "article_url = \"https://www.artificialintelligence-news.com/2022/01/25/meta-claims-new-ai-supercomputer-will-set-records/\"\n",
    "\n",
    "# Create a session to maintain parameters across requests\n",
    "session = requests.Session()\n",
    "\n",
    "try:\n",
    "    # Send a GET request to the URL with custom headers to simulate a browser\n",
    "    response = session.get(article_url, headers=headers, timeout=10)\n",
    "\n",
    "    # Check if the request was successful (status code 200)\n",
    "    if response.status_code == 200:\n",
    "        # Create an Article object and parse the content\n",
    "        article = Article(article_url)\n",
    "        article.download()\n",
    "        article.parse()\n",
    "\n",
    "        # Print the title and text of the article\n",
    "        print(f\"Title: {article.title}\")\n",
    "        print(f\"Text: {article.text}\")\n",
    "    else:\n",
    "        # If the request was unsuccessful, print a failure message\n",
    "        print(f\"Failed to fetch article at {article_url}\")\n",
    "except Exception as e:\n",
    "    # Catch any exceptions and print an error message\n",
    "    print(f\"Error occurred while fetching article at {article_url}: {e}\")\n"
   ]
  },
  {
   "cell_type": "code",
   "execution_count": 18,
   "metadata": {},
   "outputs": [],
   "source": [
    "from langchain.schema import (\n",
    "    HumanMessage\n",
    ")\n",
    "\n",
    "# We get the article data from the scraping part\n",
    "article_title = article.title\n",
    "article_text = article.text\n",
    "\n",
    "# Prepare template for the prompt\n",
    "template = \"\"\"You are a very good assistant that summarizes online articles.\n",
    "\n",
    "Here's the article you want to summarize.\n",
    "\n",
    "====================\n",
    "Title: {article_title}\n",
    "\n",
    "{article_text}\n",
    "====================\n",
    "\n",
    "Write a summary of the previous article.\n",
    "\"\"\"\n",
    "\n",
    "# Format the template with the article's title and text\n",
    "prompt = template.format(article_title=article.title, article_text=article.text)\n",
    "\n",
    "# Create a HumanMessage object with the formatted prompt\n",
    "messages = [HumanMessage(content=prompt)]"
   ]
  },
  {
   "cell_type": "code",
   "execution_count": 20,
   "metadata": {},
   "outputs": [
    {
     "name": "stdout",
     "output_type": "stream",
     "text": [
      "Meta has announced the development of its AI Research SuperCluster (RSC), which it claims will be the fastest AI supercomputer in the world upon completion in mid-2022. Currently, researchers are already utilizing RSC for training large natural language processing (NLP) and computer vision models. The supercomputer is designed to handle models with trillions of parameters and is expected to be 20 times faster than Meta's existing V100-based clusters. RSC will significantly reduce training times for large models, completing tasks in three weeks instead of nine.\n",
      "\n",
      "Meta envisions RSC facilitating advancements in AI systems, such as real-time voice translation for collaborative projects and contributing to the development of technologies for the metaverse. The supercomputer incorporates enhanced security and privacy controls, allowing Meta to use real-world data from its platforms for training, which is crucial for tasks like identifying harmful content. Meta asserts that RSC represents a significant achievement in performance, reliability, security, and privacy at scale.\n"
     ]
    }
   ],
   "source": [
    "from langchain.chat_models import ChatOpenAI\n",
    "\n",
    "# load the model\n",
    "chat = ChatOpenAI(model_name=\"gpt-4o-mini\",temperature=0)\n",
    "\n",
    "# Generate summary based on the prompt\n",
    "summary = chat(messages)\n",
    "\n",
    "# Print the generated summary\n",
    "print(summary.content)"
   ]
  },
  {
   "cell_type": "code",
   "execution_count": 24,
   "metadata": {},
   "outputs": [
    {
     "name": "stdout",
     "output_type": "stream",
     "text": [
      "- **Title**: Meta claims its new AI supercomputer will set records\n",
      "- **Author**: Ryan Daws, senior editor at TechForge Media\n",
      "- **Overview**: Meta (formerly Facebook) has introduced the AI Research SuperCluster (RSC), claiming it will be the fastest AI supercomputer in the world.\n",
      "- **Current Status**: \n",
      "  - RSC is not yet fully complete but is already being used for training large natural language processing (NLP) and computer vision models.\n",
      "  - Expected to be fully operational by mid-2022.\n",
      "- **Performance Goals**:\n",
      "  - Aims to train models with trillions of parameters.\n",
      "  - Projected to be 20x faster than current V100-based clusters.\n",
      "  - Estimated to be 9x faster with NVIDIA Collective Communication Library (NCCL) and 3x faster for large-scale NLP workflows.\n",
      "  - Training time for models with tens of billions of parameters reduced from nine weeks to three weeks.\n",
      "- **Applications**:\n",
      "  - Intended to support real-time voice translations for multilingual collaboration in research and AR gaming.\n",
      "  - Will contribute to the development of technologies for the metaverse, emphasizing AI-driven applications.\n",
      "- **Data Usage**:\n",
      "  - RSC designed with security and privacy controls, allowing the use of real-world data from Meta's production systems.\n",
      "  - Aims to enhance research for identifying harmful content on Meta's platforms.\n",
      "- **Meta's Statement**: Claims this is the first instance of addressing performance, reliability, security, and privacy at such a scale.\n"
     ]
    }
   ],
   "source": [
    "# Prepare template for prompt\n",
    "template = \"\"\"You are an advanced AI assistant that summarizes online articles into bulleted lists.\n",
    "\n",
    "Here's the article you need to summarize.\n",
    "\n",
    "====================\n",
    "Title: {article_title}\n",
    "\n",
    "{article_text}\n",
    "====================\n",
    "\n",
    "Now, provide a summarized version of the article in a bulleted list format.\n",
    "\"\"\"\n",
    "\n",
    "# Format prompt\n",
    "prompt = template.format(article_title=article.title, article_text=article.text)\n",
    "\n",
    "# Generate summary\n",
    "summary = chat([HumanMessage(content=prompt)])\n",
    "print(summary.content)\n"
   ]
  },
  {
   "cell_type": "code",
   "execution_count": 21,
   "metadata": {},
   "outputs": [
    {
     "name": "stdout",
     "output_type": "stream",
     "text": [
      "- **Titre** : Meta annonce que son nouvel superordinateur IA établira des records.\n",
      "- **Superordinateur** : Appelé AI Research SuperCluster (RSC), il est en cours de construction et vise à être le plus rapide au monde.\n",
      "- **Utilisation actuelle** : Les chercheurs de Meta l'utilisent déjà pour former des modèles de traitement du langage naturel (NLP) et de vision par ordinateur.\n",
      "- **Achèvement prévu** : RSC devrait être entièrement construit d'ici mi-2022.\n",
      "- **Capacités** : Destiné à entraîner des modèles avec des trillions de paramètres.\n",
      "- **Applications envisagées** : Permettre des traductions vocales en temps réel pour des groupes parlant différentes langues, facilitant la collaboration sur des projets de recherche ou des jeux en réalité augmentée.\n",
      "- **Performances** : RSC sera 20 fois plus rapide que les clusters V100 actuels de Meta, 9 fois plus rapide pour la bibliothèque de communication collective NVIDIA (NCCL) et 3 fois plus rapide pour les flux de travail NLP à grande échelle.\n",
      "- **Efficacité de formation** : Un modèle avec des dizaines de milliards de paramètres peut être formé en trois semaines, contre neuf semaines auparavant.\n",
      "- **Sécurité et confidentialité** : RSC a été conçu pour permettre l'utilisation d'exemples du monde réel tout en respectant la sécurité et la confidentialité.\n",
      "- **Objectif de recherche** : Avancer la recherche pour des tâches essentielles, comme l'identification de contenu nuisible sur les plateformes de Meta.\n",
      "- **Déclaration de Meta** : \"C'est la première fois que la performance, la fiabilité, la sécurité et la confidentialité sont abordées à une telle échelle.\"\n"
     ]
    }
   ],
   "source": [
    "# Prepare template for prompt\n",
    "template = \"\"\" You are an advanced AI assistant that summarizes online articles into bulleted lists in French.\n",
    "\n",
    "Here's the article you need to summarize.\n",
    "\n",
    "====================\n",
    "Title: {article_title}\n",
    "\n",
    "{article_text}\n",
    "====================\n",
    "\n",
    "Now, provide a summarized version of the article in a bulleted list format, in French.\n",
    "\"\"\"\n",
    "\n",
    "# Format prompt\n",
    "prompt = template.format(article_title=article.title, article_text=article.text)\n",
    "\n",
    "# Generate summary\n",
    "summary = chat([HumanMessage(content=prompt)])\n",
    "print(summary.content)"
   ]
  }
 ],
 "metadata": {
  "kernelspec": {
   "display_name": "Python 3",
   "language": "python",
   "name": "python3"
  },
  "language_info": {
   "codemirror_mode": {
    "name": "ipython",
    "version": 3
   },
   "file_extension": ".py",
   "mimetype": "text/x-python",
   "name": "python",
   "nbconvert_exporter": "python",
   "pygments_lexer": "ipython3",
   "version": "3.9.20"
  }
 },
 "nbformat": 4,
 "nbformat_minor": 2
}
